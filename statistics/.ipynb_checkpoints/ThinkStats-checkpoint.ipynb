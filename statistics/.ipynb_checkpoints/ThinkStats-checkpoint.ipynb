{
 "cells": [
  {
   "cell_type": "markdown",
   "metadata": {},
   "source": [
    "# Problem Sets\n",
    "\n",
    "* 2-4-cohens_d\n",
    "* 3-1-actual_biased\n",
    "* 4-2-random_dist\n",
    "* 5-1-blue_men\n",
    "* 6-1-household_income\n",
    "* 7-1-weight_vs_age\n",
    "* 8-2-sampling_dist\n",
    "* 8-3-scoring\n",
    "* 9-2-resampling"
   ]
  },
  {
   "cell_type": "code",
   "execution_count": 1,
   "metadata": {
    "collapsed": false
   },
   "outputs": [],
   "source": [
    "%matplotlib inline\n",
    "from __future__ import division\n",
    "import os, os.path\n",
    "os.chdir('../../ThinkStats2/code')"
   ]
  },
  {
   "cell_type": "code",
   "execution_count": 2,
   "metadata": {
    "collapsed": false
   },
   "outputs": [
    {
     "name": "stdout",
     "output_type": "stream",
     "text": [
      "## 2.4 Cohen's d\n",
      "* prglngth: 0.0288790446544\n",
      "* totalwgt_lb: -0.0886729270726\n"
     ]
    }
   ],
   "source": [
    "# 2-4-cohens_d\n",
    "\n",
    "import nsfg\n",
    "import thinkstats2\n",
    "import thinkplot\n",
    "import math\n",
    "preg = nsfg.ReadFemPreg()\n",
    "live = preg[preg.outcome == 1]\n",
    "firsts = live[live.birthord == 1]\n",
    "others = live[live.birthord != 1]\n",
    "def CohenEffectSize(g1,g2):\n",
    "    d = g1.mean() - g2.mean()\n",
    "    pooled_var = (len(g1)*g1.var() + len(g2)*g2.var())/(len(g1)+len(g2))\n",
    "    return d/math.sqrt(pooled_var)\n",
    "\n",
    "\n",
    "print \"## 2.4 Cohen's d\"\n",
    "for col in ('prglngth','totalwgt_lb'):\n",
    "    print('* {}: {}'.format(col,CohenEffectSize(firsts[col],others[col])))"
   ]
  },
  {
   "cell_type": "code",
   "execution_count": 3,
   "metadata": {
    "collapsed": false
   },
   "outputs": [
    {
     "name": "stdout",
     "output_type": "stream",
     "text": [
      "## 3-1-actual_biased\n"
     ]
    },
    {
     "data": {
      "image/png": "[encoded data removed]",
      "text/plain": [
       "<matplotlib.figure.Figure at 0x1040e3310>"
      ]
     },
     "metadata": {},
     "output_type": "display_data"
    },
    {
     "name": "stdout",
     "output_type": "stream",
     "text": [
      "PMF: 1.02420515504\n",
      "Biased PMF: 2.46186052597\n"
     ]
    },
    {
     "data": {
      "text/plain": [
       "<matplotlib.figure.Figure at 0x1233d3b90>"
      ]
     },
     "metadata": {},
     "output_type": "display_data"
    }
   ],
   "source": [
    "# 3-1-actual_biased\n",
    "import chap01soln\n",
    "resp = chap01soln.ReadFemResp()\n",
    "\n",
    "pmf = thinkstats2.Pmf(resp.numkdhh,label='Actual')\n",
    "bias_pmf = pmf.Copy(label='observed')\n",
    "for x,p in pmf.Items():\n",
    "    bias_pmf.Mult(x,x)\n",
    "\n",
    "print('## 3-1-actual_biased')\n",
    "thinkplot.PrePlot(2)\n",
    "thinkplot.Pmfs([pmf,bias_pmf])\n",
    "thinkplot.Show(xlabel='numbers of kids per household',ylabel='PMF')\n",
    "print('PMF: {}'.format(pmf.Mean()))\n",
    "print('Biased PMF: {}'.format(bias_pmf.Mean()))"
   ]
  },
  {
   "cell_type": "code",
   "execution_count": 4,
   "metadata": {
    "collapsed": false
   },
   "outputs": [
    {
     "name": "stdout",
     "output_type": "stream",
     "text": [
      "## 4-2-random_dist\n"
     ]
    },
    {
     "name": "stderr",
     "output_type": "stream",
     "text": [
      "/Users/dave/anaconda/lib/python2.7/site-packages/matplotlib/axes/_axes.py:519: UserWarning: No labelled objects found. Use label='...' kwarg on individual plots.\n",
      "  warnings.warn(\"No labelled objects found. \"\n"
     ]
    },
    {
     "data": {
      "image/png": "[encoded data removed]",
      "text/plain": [
       "<matplotlib.figure.Figure at 0x1040e3290>"
      ]
     },
     "metadata": {},
     "output_type": "display_data"
    },
    {
     "data": {
      "image/png": "[encoded data removed]",
      "text/plain": [
       "<matplotlib.figure.Figure at 0x103f1cc90>"
      ]
     },
     "metadata": {},
     "output_type": "display_data"
    },
    {
     "name": "stdout",
     "output_type": "stream",
     "text": [
      "Distribution is uniform\n"
     ]
    },
    {
     "data": {
      "text/plain": [
       "<matplotlib.figure.Figure at 0x1206a1b90>"
      ]
     },
     "metadata": {},
     "output_type": "display_data"
    }
   ],
   "source": [
    "## 4-2-random_dist\n",
    "import random\n",
    "data = [random.random() for _ in xrange(1000)]\n",
    "pmf = thinkstats2.Pmf(data,)\n",
    "cdf = thinkstats2.Cdf(data,)\n",
    "print('## 4-2-random_dist')\n",
    "thinkplot.Pmf(pmf)\n",
    "thinkplot.Show(ylabel='PMF',xlabel='value')\n",
    "thinkplot.Cdf(cdf)\n",
    "thinkplot.Show(ylabel='CDF',xlabel='value')\n",
    "print 'Distribution is uniform'"
   ]
  },
  {
   "cell_type": "code",
   "execution_count": 5,
   "metadata": {
    "collapsed": false
   },
   "outputs": [
    {
     "name": "stdout",
     "output_type": "stream",
     "text": [
      "## 5-1-blue_men\n",
      "34.3%\n"
     ]
    }
   ],
   "source": [
    "## 5-1-blue_men\n",
    "import scipy.stats\n",
    "lower,upper = scipy.stats.norm.cdf(\n",
    "        [177.8,185.42],\n",
    "        loc=178,\n",
    "        scale=7.7,\n",
    ")\n",
    "print('## 5-1-blue_men')\n",
    "print('{0:0.1%}'.format(upper - lower))"
   ]
  }
 ],
 "metadata": {
  "kernelspec": {
   "display_name": "Python 2",
   "language": "python",
   "name": "python2"
  },
  "language_info": {
   "codemirror_mode": {
    "name": "ipython",
    "version": 2
   },
   "file_extension": ".py",
   "mimetype": "text/x-python",
   "name": "python",
   "nbconvert_exporter": "python",
   "pygments_lexer": "ipython2",
   "version": "2.7.12"
  }
 },
 "nbformat": 4,
 "nbformat_minor": 0
}
