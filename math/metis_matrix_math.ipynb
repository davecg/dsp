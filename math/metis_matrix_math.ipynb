{
 "cells": [
  {
   "cell_type": "code",
   "execution_count": 1,
   "metadata": {
    "collapsed": false
   },
   "outputs": [],
   "source": [
    "import sympy\n",
    "sympy.init_printing(use_latex=True)"
   ]
  },
  {
   "cell_type": "code",
   "execution_count": 2,
   "metadata": {
    "collapsed": true
   },
   "outputs": [],
   "source": [
    "A = sympy.Matrix([[1,2,3],[2,7,4]])\n",
    "B = sympy.Matrix([[1,-1],[0,1]])\n",
    "C = sympy.Matrix([[5,-1],[9,1],[6,0]])\n",
    "D = sympy.Matrix([[3,-2,-1],[1,2,3]])\n",
    "u = sympy.Matrix([6,2,-3,5]).T\n",
    "v = sympy.Matrix([3,5,-1,4]).T\n",
    "w = sympy.Matrix([1,8,0,5])"
   ]
  },
  {
   "cell_type": "code",
   "execution_count": 3,
   "metadata": {
    "collapsed": false
   },
   "outputs": [
    {
     "name": "stdout",
     "output_type": "stream",
     "text": [
      "#1.1:\n",
      "(2, 3)\n",
      "#1.2:\n",
      "(2, 2)\n",
      "#1.3:\n",
      "(3, 2)\n",
      "#1.4:\n",
      "(2, 3)\n",
      "#1.5:\n",
      "(1, 4)\n",
      "#1.6:\n",
      "(4, 1)\n"
     ]
    }
   ],
   "source": [
    "#1. Matrix Dimensions\n",
    "for i,x in enumerate((A,B,C,D,u,w),start=1):\n",
    "    print('#1.{}:'.format(i))\n",
    "    sympy.pprint(x.shape)\n"
   ]
  },
  {
   "cell_type": "code",
   "execution_count": 4,
   "metadata": {
    "collapsed": false
   },
   "outputs": [
    {
     "name": "stdout",
     "output_type": "stream",
     "text": [
      "#2.1: \n",
      "[9  7  -4  9]\n",
      "#2.2: \n",
      "[3  -3  -2  1]\n",
      "#2.3: \n",
      "[36  12  -18  30]\n",
      "#2.4: \n",
      "51\n",
      "#2.5: \n",
      "√74\n"
     ]
    }
   ],
   "source": [
    "#2. Vector Operations\n",
    "for i,x in enumerate((\n",
    "        u+v,\n",
    "        u-v,\n",
    "        6*u,\n",
    "        u.dot(v),\n",
    "        u.norm(),\n",
    "    ),start=1):\n",
    "    print('#2.{}: '.format(i))\n",
    "    sympy.pprint(x)"
   ]
  },
  {
   "cell_type": "code",
   "execution_count": 5,
   "metadata": {
    "collapsed": false
   },
   "outputs": [
    {
     "name": "stdout",
     "output_type": "stream",
     "text": [
      "#3.1:\n",
      "not defined\n",
      "#3.2:\n",
      "⎡-4  -7  -3⎤\n",
      "⎢          ⎥\n",
      "⎣3   6   4 ⎦\n",
      "#3.3:\n",
      "⎡14  3  3⎤\n",
      "⎢        ⎥\n",
      "⎣2   7  9⎦\n",
      "#3.4:\n",
      "⎡-1  -5  -1⎤\n",
      "⎢          ⎥\n",
      "⎣2   7   4 ⎦\n",
      "#3.5:\n",
      "not defined\n",
      "#3.6:\n",
      "not defined\n",
      "#3.7:\n",
      "⎡5  -6⎤\n",
      "⎢     ⎥\n",
      "⎢9  -8⎥\n",
      "⎢     ⎥\n",
      "⎣6  -6⎦\n",
      "#3.8:\n",
      "⎡1  -4⎤\n",
      "⎢     ⎥\n",
      "⎣0  1 ⎦\n",
      "#3.9:\n",
      "⎡14  28⎤\n",
      "⎢      ⎥\n",
      "⎣28  69⎦\n",
      "#3.10:\n",
      "⎡10  -4  0 ⎤\n",
      "⎢          ⎥\n",
      "⎢-4  8   8 ⎥\n",
      "⎢          ⎥\n",
      "⎣0   8   10⎦\n"
     ]
    }
   ],
   "source": [
    "#3. Matrix Operations\n",
    "for i,x in enumerate((\n",
    "        'not defined', # A + C,\n",
    "        A - C.T,\n",
    "        C.T + 3*D,\n",
    "        B * A,\n",
    "        'not defined', # B * A.T,\n",
    "        'not defined', # B * C,\n",
    "        C * B,\n",
    "        B**4,\n",
    "        A * A.T,\n",
    "        D.T * D,\n",
    "    ),start=1):\n",
    "    print('#3.{}:'.format(i))\n",
    "    sympy.pprint(x)"
   ]
  }
 ],
 "metadata": {
  "kernelspec": {
   "display_name": "Python 2",
   "language": "python",
   "name": "python2"
  },
  "language_info": {
   "codemirror_mode": {
    "name": "ipython",
    "version": 2
   },
   "file_extension": ".py",
   "mimetype": "text/x-python",
   "name": "python",
   "nbconvert_exporter": "python",
   "pygments_lexer": "ipython2",
   "version": "2.7.12"
  }
 },
 "nbformat": 4,
 "nbformat_minor": 0
}
